{
  "cells": [
    {
      "cell_type": "code",
      "execution_count": 1,
      "metadata": {
        "id": "LmrGlRJ43Ro8"
      },
      "outputs": [],
      "source": [
        "import numpy as np \n",
        "import pandas as pd"
      ]
    },
    {
      "cell_type": "code",
      "execution_count": 2,
      "metadata": {
        "id": "m5SePegf4b_B"
      },
      "outputs": [],
      "source": [
        "import matplotlib.pyplot as plt #plotting\n",
        "%matplotlib inline"
      ]
    },
    {
      "cell_type": "code",
      "execution_count": 3,
      "metadata": {
        "id": "IUmJvpyXABnm"
      },
      "outputs": [],
      "source": [
        "plt.rcParams['figure.figsize'] = (15,10) #Set the default figure size\n",
        "plt.style.use('ggplot') #Set the plotting method"
      ]
    },
    {
      "cell_type": "code",
      "execution_count": 4,
      "metadata": {
        "id": "609DBwRgADxv"
      },
      "outputs": [],
      "source": [
        "from sklearn.model_selection import train_test_split #Split the data into train and test\n",
        "from sklearn.ensemble import RandomForestClassifier #Forest for prediction and regression\n",
        "from sklearn.metrics import mean_squared_error #Error testing\n",
        "from sklearn.metrics import classification_report #Report of Classification"
      ]
    },
    {
      "cell_type": "code",
      "execution_count": 5,
      "metadata": {
        "id": "jnMNmtGsAF8z"
      },
      "outputs": [],
      "source": [
        "import os\n",
        "for dirname, _, filenames in os.walk('/kaggle/input'):\n",
        "    for filename in filenames:\n",
        "        print(os.path.join(dirname, filename))\n"
      ]
    },
    {
      "cell_type": "code",
      "execution_count": 6,
      "metadata": {
        "colab": {
          "base_uri": "https://localhost:8080/",
          "height": 206
        },
        "id": "OTGMvx_EALe8",
        "outputId": "7de1a5a1-5ffb-4cc4-887a-337da143f5d5"
      },
      "outputs": [
        {
          "data": {
            "text/html": [
              "\n",
              "  <div id=\"df-bb23673d-1676-4337-9593-0452dd4b80e3\">\n",
              "    <div class=\"colab-df-container\">\n",
              "      <div>\n",
              "<style scoped>\n",
              "    .dataframe tbody tr th:only-of-type {\n",
              "        vertical-align: middle;\n",
              "    }\n",
              "\n",
              "    .dataframe tbody tr th {\n",
              "        vertical-align: top;\n",
              "    }\n",
              "\n",
              "    .dataframe thead th {\n",
              "        text-align: right;\n",
              "    }\n",
              "</style>\n",
              "<table border=\"1\" class=\"dataframe\">\n",
              "  <thead>\n",
              "    <tr style=\"text-align: right;\">\n",
              "      <th></th>\n",
              "      <th>pH</th>\n",
              "      <th>Temprature</th>\n",
              "      <th>Taste</th>\n",
              "      <th>Odor</th>\n",
              "      <th>Grade</th>\n",
              "    </tr>\n",
              "  </thead>\n",
              "  <tbody>\n",
              "    <tr>\n",
              "      <th>0</th>\n",
              "      <td>6.6</td>\n",
              "      <td>35</td>\n",
              "      <td>1</td>\n",
              "      <td>0</td>\n",
              "      <td>1.0</td>\n",
              "    </tr>\n",
              "    <tr>\n",
              "      <th>1</th>\n",
              "      <td>6.6</td>\n",
              "      <td>36</td>\n",
              "      <td>0</td>\n",
              "      <td>1</td>\n",
              "      <td>1.0</td>\n",
              "    </tr>\n",
              "    <tr>\n",
              "      <th>2</th>\n",
              "      <td>8.5</td>\n",
              "      <td>70</td>\n",
              "      <td>1</td>\n",
              "      <td>1</td>\n",
              "      <td>0.0</td>\n",
              "    </tr>\n",
              "    <tr>\n",
              "      <th>3</th>\n",
              "      <td>9.5</td>\n",
              "      <td>34</td>\n",
              "      <td>1</td>\n",
              "      <td>1</td>\n",
              "      <td>0.0</td>\n",
              "    </tr>\n",
              "    <tr>\n",
              "      <th>4</th>\n",
              "      <td>6.6</td>\n",
              "      <td>37</td>\n",
              "      <td>0</td>\n",
              "      <td>0</td>\n",
              "      <td>0.5</td>\n",
              "    </tr>\n",
              "  </tbody>\n",
              "</table>\n",
              "</div>\n",
              "      <button class=\"colab-df-convert\" onclick=\"convertToInteractive('df-bb23673d-1676-4337-9593-0452dd4b80e3')\"\n",
              "              title=\"Convert this dataframe to an interactive table.\"\n",
              "              style=\"display:none;\">\n",
              "        \n",
              "  <svg xmlns=\"http://www.w3.org/2000/svg\" height=\"24px\"viewBox=\"0 0 24 24\"\n",
              "       width=\"24px\">\n",
              "    <path d=\"M0 0h24v24H0V0z\" fill=\"none\"/>\n",
              "    <path d=\"M18.56 5.44l.94 2.06.94-2.06 2.06-.94-2.06-.94-.94-2.06-.94 2.06-2.06.94zm-11 1L8.5 8.5l.94-2.06 2.06-.94-2.06-.94L8.5 2.5l-.94 2.06-2.06.94zm10 10l.94 2.06.94-2.06 2.06-.94-2.06-.94-.94-2.06-.94 2.06-2.06.94z\"/><path d=\"M17.41 7.96l-1.37-1.37c-.4-.4-.92-.59-1.43-.59-.52 0-1.04.2-1.43.59L10.3 9.45l-7.72 7.72c-.78.78-.78 2.05 0 2.83L4 21.41c.39.39.9.59 1.41.59.51 0 1.02-.2 1.41-.59l7.78-7.78 2.81-2.81c.8-.78.8-2.07 0-2.86zM5.41 20L4 18.59l7.72-7.72 1.47 1.35L5.41 20z\"/>\n",
              "  </svg>\n",
              "      </button>\n",
              "      \n",
              "  <style>\n",
              "    .colab-df-container {\n",
              "      display:flex;\n",
              "      flex-wrap:wrap;\n",
              "      gap: 12px;\n",
              "    }\n",
              "\n",
              "    .colab-df-convert {\n",
              "      background-color: #E8F0FE;\n",
              "      border: none;\n",
              "      border-radius: 50%;\n",
              "      cursor: pointer;\n",
              "      display: none;\n",
              "      fill: #1967D2;\n",
              "      height: 32px;\n",
              "      padding: 0 0 0 0;\n",
              "      width: 32px;\n",
              "    }\n",
              "\n",
              "    .colab-df-convert:hover {\n",
              "      background-color: #E2EBFA;\n",
              "      box-shadow: 0px 1px 2px rgba(60, 64, 67, 0.3), 0px 1px 3px 1px rgba(60, 64, 67, 0.15);\n",
              "      fill: #174EA6;\n",
              "    }\n",
              "\n",
              "    [theme=dark] .colab-df-convert {\n",
              "      background-color: #3B4455;\n",
              "      fill: #D2E3FC;\n",
              "    }\n",
              "\n",
              "    [theme=dark] .colab-df-convert:hover {\n",
              "      background-color: #434B5C;\n",
              "      box-shadow: 0px 1px 3px 1px rgba(0, 0, 0, 0.15);\n",
              "      filter: drop-shadow(0px 1px 2px rgba(0, 0, 0, 0.3));\n",
              "      fill: #FFFFFF;\n",
              "    }\n",
              "  </style>\n",
              "\n",
              "      <script>\n",
              "        const buttonEl =\n",
              "          document.querySelector('#df-bb23673d-1676-4337-9593-0452dd4b80e3 button.colab-df-convert');\n",
              "        buttonEl.style.display =\n",
              "          google.colab.kernel.accessAllowed ? 'block' : 'none';\n",
              "\n",
              "        async function convertToInteractive(key) {\n",
              "          const element = document.querySelector('#df-bb23673d-1676-4337-9593-0452dd4b80e3');\n",
              "          const dataTable =\n",
              "            await google.colab.kernel.invokeFunction('convertToInteractive',\n",
              "                                                     [key], {});\n",
              "          if (!dataTable) return;\n",
              "\n",
              "          const docLinkHtml = 'Like what you see? Visit the ' +\n",
              "            '<a target=\"_blank\" href=https://colab.research.google.com/notebooks/data_table.ipynb>data table notebook</a>'\n",
              "            + ' to learn more about interactive tables.';\n",
              "          element.innerHTML = '';\n",
              "          dataTable['output_type'] = 'display_data';\n",
              "          await google.colab.output.renderOutput(dataTable, element);\n",
              "          const docLink = document.createElement('div');\n",
              "          docLink.innerHTML = docLinkHtml;\n",
              "          element.appendChild(docLink);\n",
              "        }\n",
              "      </script>\n",
              "    </div>\n",
              "  </div>\n",
              "  "
            ],
            "text/plain": [
              "    pH  Temprature  Taste  Odor  Grade\n",
              "0  6.6          35      1     0    1.0\n",
              "1  6.6          36      0     1    1.0\n",
              "2  8.5          70      1     1    0.0\n",
              "3  9.5          34      1     1    0.0\n",
              "4  6.6          37      0     0    0.5"
            ]
          },
          "execution_count": 6,
          "metadata": {},
          "output_type": "execute_result"
        }
      ],
      "source": [
        "milkData = pd.read_csv(\"/content/drive/MyDrive/Milk Grading.csv\") #Get the milk dataset\n",
        "milkData.head() #Take a peek at the milk"
      ]
    },
    {
      "cell_type": "code",
      "execution_count": 7,
      "metadata": {
        "colab": {
          "base_uri": "https://localhost:8080/"
        },
        "id": "S9lGxqg_AaRf",
        "outputId": "975ddf6c-7fae-4a03-c960-5dcbcb10371e"
      },
      "outputs": [
        {
          "name": "stdout",
          "output_type": "stream",
          "text": [
            "pH            False\n",
            "Temprature    False\n",
            "Taste         False\n",
            "Odor          False\n",
            "Grade         False\n",
            "dtype: bool\n"
          ]
        }
      ],
      "source": [
        "print(milkData.isnull().any()) #Check for null values"
      ]
    },
    {
      "cell_type": "code",
      "execution_count": 8,
      "metadata": {
        "colab": {
          "base_uri": "https://localhost:8080/",
          "height": 206
        },
        "id": "TrS_1PgyAgog",
        "outputId": "53316223-6f88-4a58-e3fd-d832b4741c23"
      },
      "outputs": [
        {
          "data": {
            "text/html": [
              "\n",
              "  <div id=\"df-f48bf468-4066-48fc-8b98-573c1c4d2251\">\n",
              "    <div class=\"colab-df-container\">\n",
              "      <div>\n",
              "<style scoped>\n",
              "    .dataframe tbody tr th:only-of-type {\n",
              "        vertical-align: middle;\n",
              "    }\n",
              "\n",
              "    .dataframe tbody tr th {\n",
              "        vertical-align: top;\n",
              "    }\n",
              "\n",
              "    .dataframe thead th {\n",
              "        text-align: right;\n",
              "    }\n",
              "</style>\n",
              "<table border=\"1\" class=\"dataframe\">\n",
              "  <thead>\n",
              "    <tr style=\"text-align: right;\">\n",
              "      <th></th>\n",
              "      <th>pH</th>\n",
              "      <th>Temprature</th>\n",
              "      <th>Taste</th>\n",
              "      <th>Odor</th>\n",
              "      <th>Grade</th>\n",
              "      <th>gradeWord</th>\n",
              "    </tr>\n",
              "  </thead>\n",
              "  <tbody>\n",
              "    <tr>\n",
              "      <th>0</th>\n",
              "      <td>6.6</td>\n",
              "      <td>35</td>\n",
              "      <td>1</td>\n",
              "      <td>0</td>\n",
              "      <td>1.0</td>\n",
              "      <td>Good</td>\n",
              "    </tr>\n",
              "    <tr>\n",
              "      <th>1</th>\n",
              "      <td>6.6</td>\n",
              "      <td>36</td>\n",
              "      <td>0</td>\n",
              "      <td>1</td>\n",
              "      <td>1.0</td>\n",
              "      <td>Good</td>\n",
              "    </tr>\n",
              "    <tr>\n",
              "      <th>2</th>\n",
              "      <td>8.5</td>\n",
              "      <td>70</td>\n",
              "      <td>1</td>\n",
              "      <td>1</td>\n",
              "      <td>0.0</td>\n",
              "      <td>Bad</td>\n",
              "    </tr>\n",
              "    <tr>\n",
              "      <th>3</th>\n",
              "      <td>9.5</td>\n",
              "      <td>34</td>\n",
              "      <td>1</td>\n",
              "      <td>1</td>\n",
              "      <td>0.0</td>\n",
              "      <td>Bad</td>\n",
              "    </tr>\n",
              "    <tr>\n",
              "      <th>4</th>\n",
              "      <td>6.6</td>\n",
              "      <td>37</td>\n",
              "      <td>0</td>\n",
              "      <td>0</td>\n",
              "      <td>0.5</td>\n",
              "      <td>Moderate</td>\n",
              "    </tr>\n",
              "  </tbody>\n",
              "</table>\n",
              "</div>\n",
              "      <button class=\"colab-df-convert\" onclick=\"convertToInteractive('df-f48bf468-4066-48fc-8b98-573c1c4d2251')\"\n",
              "              title=\"Convert this dataframe to an interactive table.\"\n",
              "              style=\"display:none;\">\n",
              "        \n",
              "  <svg xmlns=\"http://www.w3.org/2000/svg\" height=\"24px\"viewBox=\"0 0 24 24\"\n",
              "       width=\"24px\">\n",
              "    <path d=\"M0 0h24v24H0V0z\" fill=\"none\"/>\n",
              "    <path d=\"M18.56 5.44l.94 2.06.94-2.06 2.06-.94-2.06-.94-.94-2.06-.94 2.06-2.06.94zm-11 1L8.5 8.5l.94-2.06 2.06-.94-2.06-.94L8.5 2.5l-.94 2.06-2.06.94zm10 10l.94 2.06.94-2.06 2.06-.94-2.06-.94-.94-2.06-.94 2.06-2.06.94z\"/><path d=\"M17.41 7.96l-1.37-1.37c-.4-.4-.92-.59-1.43-.59-.52 0-1.04.2-1.43.59L10.3 9.45l-7.72 7.72c-.78.78-.78 2.05 0 2.83L4 21.41c.39.39.9.59 1.41.59.51 0 1.02-.2 1.41-.59l7.78-7.78 2.81-2.81c.8-.78.8-2.07 0-2.86zM5.41 20L4 18.59l7.72-7.72 1.47 1.35L5.41 20z\"/>\n",
              "  </svg>\n",
              "      </button>\n",
              "      \n",
              "  <style>\n",
              "    .colab-df-container {\n",
              "      display:flex;\n",
              "      flex-wrap:wrap;\n",
              "      gap: 12px;\n",
              "    }\n",
              "\n",
              "    .colab-df-convert {\n",
              "      background-color: #E8F0FE;\n",
              "      border: none;\n",
              "      border-radius: 50%;\n",
              "      cursor: pointer;\n",
              "      display: none;\n",
              "      fill: #1967D2;\n",
              "      height: 32px;\n",
              "      padding: 0 0 0 0;\n",
              "      width: 32px;\n",
              "    }\n",
              "\n",
              "    .colab-df-convert:hover {\n",
              "      background-color: #E2EBFA;\n",
              "      box-shadow: 0px 1px 2px rgba(60, 64, 67, 0.3), 0px 1px 3px 1px rgba(60, 64, 67, 0.15);\n",
              "      fill: #174EA6;\n",
              "    }\n",
              "\n",
              "    [theme=dark] .colab-df-convert {\n",
              "      background-color: #3B4455;\n",
              "      fill: #D2E3FC;\n",
              "    }\n",
              "\n",
              "    [theme=dark] .colab-df-convert:hover {\n",
              "      background-color: #434B5C;\n",
              "      box-shadow: 0px 1px 3px 1px rgba(0, 0, 0, 0.15);\n",
              "      filter: drop-shadow(0px 1px 2px rgba(0, 0, 0, 0.3));\n",
              "      fill: #FFFFFF;\n",
              "    }\n",
              "  </style>\n",
              "\n",
              "      <script>\n",
              "        const buttonEl =\n",
              "          document.querySelector('#df-f48bf468-4066-48fc-8b98-573c1c4d2251 button.colab-df-convert');\n",
              "        buttonEl.style.display =\n",
              "          google.colab.kernel.accessAllowed ? 'block' : 'none';\n",
              "\n",
              "        async function convertToInteractive(key) {\n",
              "          const element = document.querySelector('#df-f48bf468-4066-48fc-8b98-573c1c4d2251');\n",
              "          const dataTable =\n",
              "            await google.colab.kernel.invokeFunction('convertToInteractive',\n",
              "                                                     [key], {});\n",
              "          if (!dataTable) return;\n",
              "\n",
              "          const docLinkHtml = 'Like what you see? Visit the ' +\n",
              "            '<a target=\"_blank\" href=https://colab.research.google.com/notebooks/data_table.ipynb>data table notebook</a>'\n",
              "            + ' to learn more about interactive tables.';\n",
              "          element.innerHTML = '';\n",
              "          dataTable['output_type'] = 'display_data';\n",
              "          await google.colab.output.renderOutput(dataTable, element);\n",
              "          const docLink = document.createElement('div');\n",
              "          docLink.innerHTML = docLinkHtml;\n",
              "          element.appendChild(docLink);\n",
              "        }\n",
              "      </script>\n",
              "    </div>\n",
              "  </div>\n",
              "  "
            ],
            "text/plain": [
              "    pH  Temprature  Taste  Odor  Grade gradeWord\n",
              "0  6.6          35      1     0    1.0      Good\n",
              "1  6.6          36      0     1    1.0      Good\n",
              "2  8.5          70      1     1    0.0       Bad\n",
              "3  9.5          34      1     1    0.0       Bad\n",
              "4  6.6          37      0     0    0.5  Moderate"
            ]
          },
          "execution_count": 8,
          "metadata": {},
          "output_type": "execute_result"
        }
      ],
      "source": [
        "milkData[\"gradeWord\"] = milkData[\"Grade\"].apply(lambda x: \"Good\" if x==1 else (\"Moderate\" if x==0.5 else \"Bad\") ) #Put the grade into words\n",
        "milkData.head() #Take a peek at the dataset"
      ]
    },
    {
      "cell_type": "code",
      "execution_count": 9,
      "metadata": {
        "colab": {
          "base_uri": "https://localhost:8080/"
        },
        "id": "dbMX_26XAqMm",
        "outputId": "914d7a9a-78e5-40c9-929f-b9c841500ec5"
      },
      "outputs": [
        {
          "name": "stdout",
          "output_type": "stream",
          "text": [
            "1059\n"
          ]
        }
      ],
      "source": [
        "print(len(milkData.index)) #Check the number of rows"
      ]
    },
    {
      "cell_type": "code",
      "execution_count": 10,
      "metadata": {
        "colab": {
          "base_uri": "https://localhost:8080/",
          "height": 631
        },
        "id": "DMpYWyA0AzfW",
        "outputId": "9f646b64-76d6-4722-8f91-6c98f914d4f4"
      },
      "outputs": [
        {
          "data": {
            "text/plain": [
              "<matplotlib.axes._subplots.AxesSubplot at 0x7f8235e92190>"
            ]
          },
          "execution_count": 10,
          "metadata": {},
          "output_type": "execute_result"
        },
        {
          "data": {
            "image/png": "[encoded data removed]",
            "text/plain": [
              "<Figure size 1080x720 with 1 Axes>"
            ]
          },
          "metadata": {},
          "output_type": "display_data"
        }
      ],
      "source": [
        "milkData[\"Grade\"].value_counts().plot.bar(title = \"Milk in Each Grade\") #Plot the number of instances of each grade"
      ]
    },
    {
      "cell_type": "code",
      "execution_count": 11,
      "metadata": {
        "id": "EW5dS6iyBFjf"
      },
      "outputs": [],
      "source": [
        "rangeValues = [\"Temprature\", \"pH\"] #Get the columns that are ranged values"
      ]
    },
    {
      "cell_type": "code",
      "execution_count": 12,
      "metadata": {
        "colab": {
          "base_uri": "https://localhost:8080/"
        },
        "id": "h4MakmCyB3Zk",
        "outputId": "01e171c1-976e-4c11-bae8-5cd056248bf6"
      },
      "outputs": [
        {
          "name": "stdout",
          "output_type": "stream",
          "text": [
            "Temprature Range:  34 - 90\n",
            "pH Range:  3.0 - 9.5\n"
          ]
        }
      ],
      "source": [
        "#For each ranged value column, print the range of the column (min and max)\n",
        "for column in rangeValues:\n",
        "    #Print the range for these columns that have ranges\n",
        "    print(column, \"Range: \", milkData[column].unique().min(), \"-\", milkData[column].unique().max())"
      ]
    },
    {
      "cell_type": "code",
      "execution_count": 13,
      "metadata": {
        "id": "P4E-TOueCHRT"
      },
      "outputs": [],
      "source": [
        "gradeType = [\"Good\", \"Moderate\", \"Bad\"] #Get the word names for the different grades"
      ]
    },
    {
      "cell_type": "code",
      "execution_count": 14,
      "metadata": {
        "colab": {
          "base_uri": "https://localhost:8080/"
        },
        "id": "eHLLaIwGCLc7",
        "outputId": "7dd86cc7-242c-4a55-9ad1-f30466f0112c"
      },
      "outputs": [
        {
          "name": "stdout",
          "output_type": "stream",
          "text": [
            "Good Temprature Range:  35 - 45\n",
            "Good pH Range:  6.5 - 6.8\n",
            "Moderate Temprature Range:  34 - 45\n",
            "Moderate pH Range:  6.4 - 6.8\n",
            "Bad Temprature Range:  34 - 90\n",
            "Bad pH Range:  3.0 - 9.5\n"
          ]
        }
      ],
      "source": [
        "#For each grade, get the subset of the dataset for that grade and get its pH/Temp ranges\n",
        "for grade in gradeType:\n",
        "    subset = milkData.loc[milkData[\"gradeWord\"] == grade] #Get the subset of the data for the specific grade\n",
        "    \n",
        "    #For each ranged value column, print the range of the column (min and max) per each grade\n",
        "    for column in rangeValues:\n",
        "        #Print the range for these columns that have ranges\n",
        "        print(grade, column, \"Range: \", subset[column].unique().min(), \"-\", subset[column].unique().max())"
      ]
    },
    {
      "cell_type": "code",
      "execution_count": 15,
      "metadata": {
        "id": "48ECkZ1iCTxk"
      },
      "outputs": [],
      "source": [
        "#GetChara: Get the most important characteristics to the classification\n",
        "#Input: the characteristics, the model\n",
        "#Output: None\n",
        "def getChara(characteristics, forest):\n",
        "    attributes = characteristics.columns #Get the tested attributes\n",
        "    attributes = list(zip(attributes, forest.feature_importances_)) #Zip the attributes together with their coefficient\n",
        "    sortAtt = sorted(attributes, key = lambda x: x[1], reverse = True) #Sort the zipped attributes by their coefficients\n",
        "\n",
        "    print(\"According to the Random Forest, the most important factors for milk grade are: \") #Start printing the most important labels\n",
        "    i = 0 #Counter variable so only the top five are printed\n",
        "\n",
        "    #For each attribute in the sorted attributes\n",
        "    for label, coef in sortAtt:\n",
        "        if i < 7: #If there has not been five printed yet\n",
        "            print(label) #Print the label as an important factor\n",
        "        i += 1 #Increase i by 1"
      ]
    },
    {
      "cell_type": "code",
      "execution_count": 16,
      "metadata": {
        "id": "codQqTNfChQu"
      },
      "outputs": [],
      "source": [
        "def classifyMilk(milk, labels):\n",
        "    grade = milk[\"gradeWord\"].copy() #Get the grades as our classification metric\n",
        "    grade = pd.get_dummies(grade) #Get dummies for the grade metric\n",
        "    print(grade)\n",
        "\n",
        "    characteristics = milk.drop(columns = {\"Grade\", \"gradeWord\"}).copy() #Get the characteristics used for classification\n",
        "    charaTrain, charaTest, gradeTrain, gradeTest = train_test_split(characteristics, grade, test_size = 0.2) #Split the dataset\n",
        "    \n",
        "    forest = RandomForestClassifier(n_estimators = 100) #Build a forest\n",
        "    forest.fit(charaTrain, gradeTrain) #Fit the forest model\n",
        "    \n",
        "    predict = forest.predict(charaTest) #Get a list of predictions\n",
        "    \n",
        "    print(\"Forest Accuracy: \", forest.score(charaTest, gradeTest)) #Print the accuracy\n",
        "    print(\"Root Mean Square Error: \", np.sqrt(mean_squared_error(gradeTest, predict))) #Print the root mean square error\n",
        "    print(\"Classification Report:\\n \", classification_report(gradeTest, predict, target_names = labels)) #Print a classification report\n",
        "    \n",
        "    getChara(characteristics, forest) #Get the important Characteristics"
      ]
    },
    {
      "cell_type": "code",
      "execution_count": 17,
      "metadata": {
        "colab": {
          "base_uri": "https://localhost:8080/"
        },
        "id": "kqKU_8UQCocu",
        "outputId": "1ec7b63e-531f-4447-97d0-32ecf796035c"
      },
      "outputs": [
        {
          "name": "stdout",
          "output_type": "stream",
          "text": [
            "      Bad  Good  Moderate\n",
            "0       0     1         0\n",
            "1       0     1         0\n",
            "2       1     0         0\n",
            "3       1     0         0\n",
            "4       0     0         1\n",
            "...   ...   ...       ...\n",
            "1054    0     0         1\n",
            "1055    0     1         0\n",
            "1056    1     0         0\n",
            "1057    0     1         0\n",
            "1058    1     0         0\n",
            "\n",
            "[1059 rows x 3 columns]\n",
            "Forest Accuracy:  0.9905660377358491\n",
            "Root Mean Square Error:  0.0793051585718144\n",
            "Classification Report:\n",
            "                precision    recall  f1-score   support\n",
            "\n",
            "         Bad       1.00      1.00      1.00        90\n",
            "        Good       0.96      1.00      0.98        46\n",
            "    Moderate       1.00      0.97      0.99        76\n",
            "\n",
            "   micro avg       0.99      0.99      0.99       212\n",
            "   macro avg       0.99      0.99      0.99       212\n",
            "weighted avg       0.99      0.99      0.99       212\n",
            " samples avg       0.99      0.99      0.99       212\n",
            "\n",
            "According to the Random Forest, the most important factors for milk grade are: \n",
            "pH\n",
            "Temprature\n",
            "Odor\n",
            "Taste\n"
          ]
        }
      ],
      "source": [
        "grade = [\"Bad\", \"Good\", \"Moderate\"] #Get the grades in order\n",
        "classifyMilk(milkData, grade) #Classify on the whole dataset"
      ]
    },
    {
      "cell_type": "code",
      "execution_count": 18,
      "metadata": {
        "colab": {
          "base_uri": "https://localhost:8080/"
        },
        "id": "Pipc3jkcGsJ7",
        "outputId": "812658fe-ff2c-45bd-8bf1-f2473a89631c"
      },
      "outputs": [
        {
          "data": {
            "text/plain": [
              "['model.joblib']"
            ]
          },
          "execution_count": 18,
          "metadata": {},
          "output_type": "execute_result"
        }
      ],
      "source": [
        "import pickle\n",
        "from joblib import dump, load\n",
        "\n",
        "dump(grade, 'model.joblib') "
      ]
    },
    {
      "cell_type": "code",
      "execution_count": 19,
      "metadata": {
        "id": "q0NqKeWe_Nw4"
      },
      "outputs": [],
      "source": [
        "s = pickle.dumps(grade)"
      ]
    },
    {
      "cell_type": "code",
      "execution_count": 20,
      "metadata": {
        "id": "Ygo448Tm_boG"
      },
      "outputs": [],
      "source": [
        "grade_model = pickle.loads(s)"
      ]
    }
  ],
  "metadata": {
    "colab": {
      "name": "milk grading.ipynb",
      "provenance": []
    },
    "kernelspec": {
      "display_name": "Python 3",
      "name": "python3"
    },
    "language_info": {
      "name": "python"
    }
  },
  "nbformat": 4,
  "nbformat_minor": 0
}
